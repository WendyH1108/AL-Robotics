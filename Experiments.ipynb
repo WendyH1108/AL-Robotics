{
 "cells": [
  {
   "attachments": {},
   "cell_type": "markdown",
   "metadata": {},
   "source": [
    "## Import libraries"
   ]
  },
  {
   "cell_type": "code",
   "execution_count": 1,
   "metadata": {},
   "outputs": [],
   "source": [
    "import numpy as np\n",
    "import re\n",
    "import math\n",
    "import torch.optim as optim\n",
    "import matplotlib.pyplot as plt\n",
    "from torch.optim.lr_scheduler import StepLR\n",
    "import torch.nn.functional as F\n",
    "import numpy as np\n",
    "from dataset.utils import load_and_process_data, generate_orth, load_data,extract_features\n",
    "from dataset.dataset import SyntheticDataset, SimuDataset\n",
    "from model.linear import ModifiedLinear\n",
    "from model.shallow import ModifiedShallow\n",
    "from model.bilinear import ModifiedBiLinear\n",
    "from strategies.al_sampling import MTALSampling\n",
    "from strategies.baseline_sampling import RandomSampling\n",
    "from trainer.pytorch_passive_trainer import PyTorchPassiveTrainer\n",
    "from trainer.trainer import *\n",
    "import matplotlib.pyplot as plt"
   ]
  },
  {
   "attachments": {},
   "cell_type": "markdown",
   "metadata": {},
   "source": [
    "$x \\in\\mathbb{R}^n$ represents shared features across all tasks. $w \\in\\mathbb{R}^m$ represents non-shared(environment) variables for each tasks.\n",
    "\n",
    "We are insterested in system where $f(x,w) = \\phi(x) * \\phi(w)$. There exists a target task $\\phi_x(x_{target}) * \\phi_w(w_{target})$. However, there are some limitations to directly access target dataset. We want to sample from some sources tasks that could help us to better learn the representation functions $\\phi_x$ and $\\phi_w$ for target tasks."
   ]
  },
  {
   "attachments": {},
   "cell_type": "markdown",
   "metadata": {},
   "source": [
    "## Load and Process Data"
   ]
  },
  {
   "attachments": {},
   "cell_type": "markdown",
   "metadata": {},
   "source": [
    "In our case, $\\phi_w$ is a linear transformation represented by a matrix $B_w$. There are n source tasks with non-shared environment variable $\\{w_1,...,w_n\\}$. We generate data according to \n",
    "\n",
    "$$y=\\phi(x) * B_w * w_i$$\n",
    "\n",
    "for every task i, where $\\phi(x)$ is a MLP model."
   ]
  },
  {
   "attachments": {},
   "cell_type": "markdown",
   "metadata": {},
   "source": [
    "Here, with dataset Neural-fly. $x \\in\\mathbb{R}^{11}$ includes features verlocity(v), attitude(q), motor speed command(pwm). \n",
    "\n",
    "Then $\\phi(x) \\in\\mathbb{R}^{11 \\times 33} $\n",
    "\n",
    "There are 33 possible source tasks($w_i \\in\\mathbb{R}^{33}$ is a one hot vector) with different wind speed $\\in\\mathbb{R}$ and $fa$ vector $\\in\\mathbb{R}^3$ , $B_w \\in\\mathbb{R}^{2 \\times 33}$.\n",
    "\n",
    "The output $y$ is a scalar: $\\{ fa_i | i \\in [x,y,z] \\}$"
   ]
  },
  {
   "cell_type": "code",
   "execution_count": 2,
   "metadata": {},
   "outputs": [],
   "source": [
    "shared_features = ['v', 'q', 'pwm']\n",
    "rawdata_nontrans = load_data(\"./data/training/\")\n",
    "rawdata_transfer = load_data(\"./data/training-transfer/\")\n"
   ]
  },
  {
   "cell_type": "code",
   "execution_count": 3,
   "metadata": {},
   "outputs": [],
   "source": [
    "raw_data = rawdata_nontrans + [0] + rawdata_transfer"
   ]
  },
  {
   "cell_type": "code",
   "execution_count": 4,
   "metadata": {},
   "outputs": [],
   "source": [
    "input_dim = 11 # dim(x)\n",
    "embed_dim = 2 # dim(\\phi(x))\n",
    "task_dim = 33 # dim(w)\n",
    "source_task_dict = {}\n",
    "test_task_dict = {}"
   ]
  },
  {
   "cell_type": "code",
   "execution_count": 5,
   "metadata": {},
   "outputs": [],
   "source": [
    "input_data = {}\n",
    "input_label = {}\n",
    "input_ws = {}\n",
    "task_embed_matrix = []\n",
    "fa_list = [\"x\",\"y\",\"z\"]\n",
    "transfer = \"nontransfer\"\n",
    "w_matrix = np.identity(33)\n",
    "count = -1\n",
    "for task_data in raw_data:\n",
    "   if task_data == 0:\n",
    "      transfer = \"transfer\"\n",
    "      continue\n",
    "   if task_data[\"condition\"] == \"nowind\":\n",
    "      wind_speed = 0\n",
    "   else:\n",
    "      wind_speed = re.search(r'\\d+', task_data[\"condition\"]).group()\n",
    "   for dim in range(task_data[\"fa\"].shape[1]):\n",
    "      # input_data.append(np.array(extract_features(task_data,shared_features)))\n",
    "      # input_label.append(task_data[\"fa\"][:,dim])\n",
    "      count += 1\n",
    "      task_name = f\"{transfer}_{wind_speed}_{fa_list[dim]}\"\n",
    "      input_data[task_name] = np.array(extract_features(task_data,shared_features))\n",
    "      input_label[task_name] = task_data[\"fa\"][:,dim]\n",
    "      input_ws[task_name] = np.array([w_matrix[count]] * task_data[\"fa\"].shape[0])\n",
    "      source_task_dict[task_name] = (w_matrix[count],2)\n",
    "# task_embed_matrix = np.array(task_embed_matrix).T"
   ]
  },
  {
   "cell_type": "code",
   "execution_count": 6,
   "metadata": {},
   "outputs": [],
   "source": [
    "test_task_dict[list(input_ws.keys())[task_dim-1]] = (w_matrix[task_dim-1],2)"
   ]
  },
  {
   "cell_type": "code",
   "execution_count": 7,
   "metadata": {},
   "outputs": [],
   "source": [
    "dataset = SimuDataset(input_data, input_label, input_ws)"
   ]
  },
  {
   "attachments": {},
   "cell_type": "markdown",
   "metadata": {},
   "source": [
    "## Create Training Model"
   ]
  },
  {
   "attachments": {},
   "cell_type": "markdown",
   "metadata": {},
   "source": [
    "### Uniformly Sampling"
   ]
  },
  {
   "attachments": {},
   "cell_type": "markdown",
   "metadata": {},
   "source": [
    "Sample the same amount of samples from all source tasks"
   ]
  },
  {
   "cell_type": "code",
   "execution_count": null,
   "metadata": {},
   "outputs": [],
   "source": [
    "trainer_config = {\"trainer_name\":\"pytorch_passive\", \"max_epoch\": 10, \"train_batch_size\": 1000, \"lr\": 0.1, \"num_workers\": 4,\\\n",
    "                  \"optim_name\": \"SGD\", \"scheduler_name\": \"StepLR\", \"step_size\": 500, \"gamma\": 0.1,\n",
    "                  \"test_batch_size\": 500}\n",
    "trainer_config = get_optimizer_fn(trainer_config)\n",
    "trainer_config = get_scheduler_fn(trainer_config)\n",
    "model = ModifiedBiLinear(input_dim, task_dim, embed_dim, ret_emb = False)\n",
    "# model.update_input_embedding(input_embed_matrix)\n",
    "# model.update_task_embedding(task_embed_matrix)\n",
    "trainer = PyTorchPassiveTrainer(trainer_config, model)\n",
    "\n",
    "# Target task only training\n",
    "total_train_loss = []\n",
    "total_test_loss = []\n",
    "for i in range(10):\n",
    "  trian_loss = trainer.train(dataset, source_task_dict, freeze_rep = False, need_print=True)\n",
    "  total_train_loss.append(trian_loss)\n",
    "  test_loss = trainer.test(dataset, test_task_dict)\n",
    "  total_test_loss.append(test_loss)"
   ]
  },
  {
   "cell_type": "code",
   "execution_count": 18,
   "metadata": {},
   "outputs": [],
   "source": [
    "strategy = RandomSampling(test_task_dict,1)"
   ]
  },
  {
   "cell_type": "code",
   "execution_count": 14,
   "metadata": {},
   "outputs": [
    {
     "data": {
      "text/plain": [
       "[<matplotlib.lines.Line2D at 0x7facc0d629a0>]"
      ]
     },
     "execution_count": 14,
     "metadata": {},
     "output_type": "execute_result"
    },
    {
     "data": {
      "image/png": "[encoded data removed]",
      "text/plain": [
       "<Figure size 432x288 with 1 Axes>"
      ]
     },
     "metadata": {
      "needs_background": "light"
     },
     "output_type": "display_data"
    }
   ],
   "source": [
    "plt.plot(total_test_loss)"
   ]
  },
  {
   "cell_type": "code",
   "execution_count": 15,
   "metadata": {},
   "outputs": [
    {
     "data": {
      "text/plain": [
       "[<matplotlib.lines.Line2D at 0x7facdfb2b880>]"
      ]
     },
     "execution_count": 15,
     "metadata": {},
     "output_type": "execute_result"
    },
    {
     "data": {
      "image/png": "[encoded data removed]",
      "text/plain": [
       "<Figure size 432x288 with 1 Axes>"
      ]
     },
     "metadata": {
      "needs_background": "light"
     },
     "output_type": "display_data"
    }
   ],
   "source": [
    "plt.plot(total_train_loss)"
   ]
  },
  {
   "cell_type": "code",
   "execution_count": 32,
   "metadata": {},
   "outputs": [],
   "source": [
    "b_matrix = model.get_full_task_embed_matrix()\n",
    "target = b_matrix[:,-1] \n",
    "def cos_sim(a):\n",
    "  cos_sim = np.dot(a, target)/(np.linalg.norm(a) * np.linalg.norm(target))\n",
    "  return cos_sim"
   ]
  },
  {
   "cell_type": "code",
   "execution_count": 41,
   "metadata": {},
   "outputs": [],
   "source": [
    "task_name_list = np.array(list(source_task_dict.keys()))"
   ]
  },
  {
   "cell_type": "code",
   "execution_count": 35,
   "metadata": {},
   "outputs": [],
   "source": [
    "cos_sim = np.apply_along_axis(lambda x: cos_sim(x), 0, b_matrix[:,:-1])"
   ]
  },
  {
   "cell_type": "code",
   "execution_count": 37,
   "metadata": {},
   "outputs": [],
   "source": [
    "sorted_idx_sim = np.argsort(cos_sim)"
   ]
  },
  {
   "cell_type": "code",
   "execution_count": 44,
   "metadata": {},
   "outputs": [
    {
     "name": "stdout",
     "output_type": "stream",
     "text": [
      "target task:  transfer_10_z\n"
     ]
    },
    {
     "data": {
      "text/plain": [
       "array(['transfer_20_z', 'nontransfer_20_z', 'nontransfer_0_y',\n",
       "       'nontransfer_10_z', 'transfer_40_z', 'transfer_20_y',\n",
       "       'transfer_0_x', 'nontransfer_20_x', 'transfer_0_y',\n",
       "       'transfer_40_y', 'nontransfer_40_z', 'nontransfer_0_z',\n",
       "       'nontransfer_50_z', 'nontransfer_40_y', 'nontransfer_30_z',\n",
       "       'transfer_30_z', 'nontransfer_50_x', 'transfer_30_y',\n",
       "       'nontransfer_10_y', 'nontransfer_0_x', 'nontransfer_20_y',\n",
       "       'transfer_40_x', 'transfer_10_x', 'nontransfer_30_y',\n",
       "       'nontransfer_30_x', 'nontransfer_40_x', 'transfer_10_y',\n",
       "       'transfer_0_z', 'transfer_20_x', 'nontransfer_10_x',\n",
       "       'transfer_30_x', 'nontransfer_50_y'], dtype='<U16')"
      ]
     },
     "execution_count": 44,
     "metadata": {},
     "output_type": "execute_result"
    }
   ],
   "source": [
    "print(\"target task: \", task_name_list[-1])\n",
    "task_name_list[sorted_idx_sim]"
   ]
  },
  {
   "attachments": {},
   "cell_type": "markdown",
   "metadata": {},
   "source": [
    "### Actively sampling"
   ]
  },
  {
   "cell_type": "code",
   "execution_count": null,
   "metadata": {},
   "outputs": [],
   "source": [
    "trainer_config = {\"trainer_name\":\"pytorch_passive\", \"max_epoch\": 10, \"train_batch_size\": 1000, \"lr\": 0.1, \"num_workers\": 4,\\\n",
    "                  \"optim_name\": \"SGD\", \"scheduler_name\": \"StepLR\", \"step_size\": 500, \"gamma\": 0.1,\n",
    "                  \"test_batch_size\": 500}\n",
    "trainer_config = get_optimizer_fn(trainer_config)\n",
    "trainer_config = get_scheduler_fn(trainer_config)\n",
    "model = ModifiedBiLinear(input_dim, task_dim, embed_dim, ret_emb = False)\n",
    "# model.update_input_embedding(input_embed_matrix)\n",
    "# model.update_task_embedding(task_embed_matrix)\n",
    "trainer = PyTorchPassiveTrainer(trainer_config, model)\n",
    "\n",
    "# Target task only training\n",
    "strategy = MTALSampling()\n",
    "total_train_loss = []\n",
    "total_test_loss = []\n",
    "for i in range(10):\n",
    "  trian_loss = trainer.train(dataset, source_task_dict, freeze_rep = False, need_print=True)\n",
    "  #TODO: change the pseudo-code\n",
    "  new_weight = strategy.select()\n",
    "  source_task_dict.update(new_weight)\n",
    "  #\n",
    "  total_train_loss.append(trian_loss)\n",
    "  test_loss = trainer.test(dataset, test_task_dict)\n",
    "  total_test_loss.append(test_loss)"
   ]
  }
 ],
 "metadata": {
  "kernelspec": {
   "display_name": "Python 3.8.5 ('base')",
   "language": "python",
   "name": "python3"
  },
  "language_info": {
   "codemirror_mode": {
    "name": "ipython",
    "version": 3
   },
   "file_extension": ".py",
   "mimetype": "text/x-python",
   "name": "python",
   "nbconvert_exporter": "python",
   "pygments_lexer": "ipython3",
   "version": "3.8.5"
  },
  "orig_nbformat": 4,
  "vscode": {
   "interpreter": {
    "hash": "140bc0c93e3ec99d4d0678479f80f4820f4c23fca9ed459ae26f4984966aba64"
   }
  }
 },
 "nbformat": 4,
 "nbformat_minor": 2
}
