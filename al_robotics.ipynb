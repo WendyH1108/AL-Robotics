{
 "cells": [
  {
   "cell_type": "code",
   "execution_count": 1,
   "metadata": {},
   "outputs": [],
   "source": [
    "import numpy as np\n",
    "import matplotlib.pyplot as plt\n",
    "\n",
    "import torch\n",
    "import torch.nn as nn\n",
    "import torch.nn.functional as F\n",
    "import torch.optim as optim\n",
    "torch.set_default_tensor_type('torch.DoubleTensor')\n",
    "from torch.utils.data import Dataset, DataLoader\n",
    "from torch.utils.data.dataset import random_split\n",
    "from torch.nn.utils import spectral_norm\n",
    "import numpy as np\n",
    "import utils\n",
    "import mlmodel\n",
    "import matplotlib.pyplot as plt\n",
    "import collections.abc\n",
    "import re\n",
    "import copy"
   ]
  },
  {
   "cell_type": "code",
   "execution_count": 2,
   "metadata": {},
   "outputs": [],
   "source": [
    "import warnings\n",
    "warnings.filterwarnings('ignore')"
   ]
  },
  {
   "cell_type": "code",
   "execution_count": 3,
   "metadata": {},
   "outputs": [
    {
     "name": "stdout",
     "output_type": "stream",
     "text": [
      "running on darwin, setting 2 workers\n"
     ]
    }
   ],
   "source": [
    "import sys\n",
    "if sys.platform == 'win32':\n",
    "    NUM_WORKERS = 0 # Windows does not support multiprocessing\n",
    "else:\n",
    "    NUM_WORKERS = 2\n",
    "print('running on ' + sys.platform + ', setting ' + str(NUM_WORKERS) + ' workers')"
   ]
  },
  {
   "cell_type": "markdown",
   "metadata": {},
   "source": [
    "## Load the Dataset"
   ]
  },
  {
   "cell_type": "code",
   "execution_count": 4,
   "metadata": {},
   "outputs": [],
   "source": [
    "dim_a = 3\n",
    "features = ['v', 'q', 'pwm']\n",
    "label = 'fa'\n",
    "\n",
    "# Training data collected from the neural-fly drone\n",
    "dataset = 'neural-fly' \n",
    "dataset_folder = 'data/training'\n",
    "hover_pwm_ratio = 1.\n",
    "\n",
    "# # Training data collected from an intel aero drone\n",
    "# dataset = 'neural-fly-transfer'\n",
    "# dataset_folder = 'data/training-transfer'\n",
    "# hover_pwm = 910 # mean hover pwm for neural-fly drone\n",
    "# intel_hover_pwm = 1675 # mean hover pwm for intel-aero drone\n",
    "# hover_pwm_ratio = hover_pwm / intel_hover_pwm # scaling ratio from system id\n",
    "\n",
    "modelname = f\"{dataset}_dim-a-{dim_a}_{'-'.join(features)}\" # 'intel-aero_fa-num-Tsp_v-q-pwm'"
   ]
  },
  {
   "cell_type": "code",
   "execution_count": 5,
   "metadata": {},
   "outputs": [],
   "source": [
    "RawData = utils.load_data(dataset_folder)\n",
    "Data = utils.format_data(RawData, features=features, output=label)\n",
    "\n",
    "testdata_folder = 'data/experiment'\n",
    "TestRawData = utils.load_data(testdata_folder, expnames='(baseline_)([0-9]*|no)wind')\n",
    "TestData = utils.format_data(RawData, features=features, output=label, hover_pwm_ratio=hover_pwm_ratio) # wind condition label, C, will not make sense for this data - that's okay since C is only used in the training process"
   ]
  },
  {
   "cell_type": "code",
   "execution_count": 6,
   "metadata": {},
   "outputs": [
    {
     "name": "stdout",
     "output_type": "stream",
     "text": [
      "dims of (x, y) are (11, 3)\n",
      "there are 6 different conditions\n"
     ]
    }
   ],
   "source": [
    "options = {}\n",
    "options['dim_x'] = Data[0].X.shape[1]\n",
    "options['dim_y'] = Data[0].Y.shape[1]\n",
    "options['num_c'] = len(Data)\n",
    "print('dims of (x, y) are', (options['dim_x'], options['dim_y']))\n",
    "print('there are ' + str(options['num_c']) + ' different conditions')"
   ]
  },
  {
   "cell_type": "code",
   "execution_count": 7,
   "metadata": {},
   "outputs": [],
   "source": [
    "options['features'] = features\n",
    "options['dim_a'] = dim_a\n",
    "options['loss_type'] = 'crossentropy-loss'\n",
    "\n",
    "options['shuffle'] = True # True: shuffle trajectories to data points\n",
    "options['K_shot'] = 32 # number of K-shot for least square on a\n",
    "options['phi_shot'] = 256 # batch size for training phi\n",
    "\n",
    "options['alpha'] = 0.01 # adversarial regularization loss\n",
    "options['learning_rate'] = 5e-4\n",
    "options['frequency_h'] = 2 # how many times phi is updated between h updates, on average\n",
    "options['SN'] = 2. # maximum single layer spectral norm of phi\n",
    "options['gamma'] = 10. # max 2-norm of a\n",
    "options['num_epochs'] = 1000"
   ]
  },
  {
   "cell_type": "markdown",
   "metadata": {},
   "source": [
    "## Process Tasks Data"
   ]
  },
  {
   "cell_type": "code",
   "execution_count": 8,
   "metadata": {},
   "outputs": [],
   "source": [
    "train_tasks = {}\n",
    "for i, data in enumerate(Data):\n",
    "  if data.condition not in train_tasks.keys():\n",
    "    train_tasks[data.condition] = []\n",
    "  train_tasks[data.condition] = data"
   ]
  },
  {
   "cell_type": "code",
   "execution_count": 9,
   "metadata": {},
   "outputs": [],
   "source": [
    "test_tasks = {}\n",
    "for i, data in enumerate(Data):\n",
    "  if data.condition not in test_tasks.keys():\n",
    "    test_tasks[data.condition] = []\n",
    "  test_tasks[data.condition] = data"
   ]
  },
  {
   "cell_type": "code",
   "execution_count": 10,
   "metadata": {},
   "outputs": [],
   "source": [
    "all_data = train_tasks.copy()"
   ]
  },
  {
   "cell_type": "code",
   "execution_count": 11,
   "metadata": {},
   "outputs": [],
   "source": [
    "target_data={}\n",
    "target_data[\"10\"] = train_tasks[\"10\"]"
   ]
  },
  {
   "cell_type": "code",
   "execution_count": 12,
   "metadata": {},
   "outputs": [],
   "source": [
    "train_tasks.pop(\"10\")\n",
    "source_data = train_tasks"
   ]
  },
  {
   "cell_type": "markdown",
   "metadata": {},
   "source": [
    "## Create Neural Network"
   ]
  },
  {
   "cell_type": "code",
   "execution_count": 13,
   "metadata": {},
   "outputs": [],
   "source": [
    "def maybe_sn(m, use_sn):\n",
    "    return spectral_norm(m) if use_sn else m"
   ]
  },
  {
   "cell_type": "code",
   "execution_count": 14,
   "metadata": {},
   "outputs": [],
   "source": [
    "class MLP(nn.Module):\n",
    "    def __init__(self, input_dim, output_dim, hidden_dims, spectral_norms):\n",
    "        super().__init__()\n",
    "        assert len(hidden_dims) == len(spectral_norms)\n",
    "        layers = []\n",
    "        for dim, use_sn in zip(hidden_dims, spectral_norms):\n",
    "            layers += [\n",
    "                maybe_sn(nn.Linear(input_dim, dim), use_sn),\n",
    "                nn.ReLU(inplace=True),\n",
    "            ]\n",
    "            input_dim = dim\n",
    "\n",
    "        layers += [nn.Linear(input_dim, output_dim)]\n",
    "        # self.layer_list = nn.ModuleList(layers)\n",
    "        self.net = nn.Sequential(*layers)\n",
    "\n",
    "    def forward(self, x):\n",
    "        return self.net(x)"
   ]
  },
  {
   "cell_type": "code",
   "execution_count": 15,
   "metadata": {},
   "outputs": [],
   "source": [
    "hidden_dim = [128,128,128]\n",
    "spectral_norms = [False]*len(hidden_dim)\n",
    "NN = MLP(options[\"dim_x\"], 1, hidden_dim, spectral_norms)"
   ]
  },
  {
   "cell_type": "markdown",
   "metadata": {},
   "source": [
    "## Helper Functions"
   ]
  },
  {
   "cell_type": "code",
   "execution_count": 16,
   "metadata": {},
   "outputs": [],
   "source": [
    "# Randomly select data from dataset\n",
    "def sample_data(data, size):\n",
    "  number_of_rows = data.shape[0]\n",
    "  random_indices = np.random.choice(number_of_rows, \n",
    "                                    size=size, \n",
    "                                    replace=True)\n",
    "  return random_indices"
   ]
  },
  {
   "cell_type": "code",
   "execution_count": 17,
   "metadata": {},
   "outputs": [],
   "source": [
    "def extract_features(rawdata, features):\n",
    "  feature_data = []\n",
    "  for feature in features:\n",
    "    if isinstance(rawdata[feature], str):\n",
    "      condition_list = re.findall(r'\\d+', rawdata[feature]) \n",
    "      condition = 0 if condition_list == [] else float(condition_list[0])\n",
    "      feature_data.append(np.tile(condition,(len(rawdata['v']),1)))\n",
    "      continue\n",
    "    feature_len = rawdata[feature].shape[1] if len(rawdata[feature].shape)>1 else 1\n",
    "    if feature == 'pwm':\n",
    "        feature_data.append(rawdata[feature] / 1000 * hover_pwm_ratio)\n",
    "    else:\n",
    "        feature_data.append(rawdata[feature].reshape(rawdata[feature].shape[0],feature_len))\n",
    "    # print(feature_data) \n",
    "  feature_data = np.hstack(feature_data)\n",
    "  return feature_data"
   ]
  },
  {
   "cell_type": "code",
   "execution_count": 18,
   "metadata": {},
   "outputs": [],
   "source": [
    "def generate_task_sample(NN, data, shared_features, env_features, sample_size, eps):\n",
    "    shared_input = extract_features(data,shared_features)\n",
    "    env_input = extract_features(data,env_features)\n",
    "    random_indices = sample_data(shared_input, size = int(sample_size))\n",
    "    sub_sample = shared_input[random_indices,:]\n",
    "    sub_features = env_input[random_indices,:]\n",
    "    shared_y = NN(torch.Tensor(sub_sample)).detach().numpy()\n",
    "    sub_features = np.apply_along_axis(lambda x :(x+1)/np.linalg.norm((x+1)) , 0, sub_features)\n",
    "    # y = shared_y + idx + (sub_features/np.linalg.norm(sub_features)).reshape(shared_y.shape) + eps\n",
    "    if eps: \n",
    "        y = shared_y + np.sum(sub_features,1).reshape(shared_y.shape)+ np.random.normal(0,1,shared_y.shape).reshape(shared_y.shape)\n",
    "    else:\n",
    "        y = shared_y + np.sum(sub_features,1).reshape(shared_y.shape)\n",
    "    return sub_sample, y"
   ]
  },
  {
   "cell_type": "code",
   "execution_count": 19,
   "metadata": {},
   "outputs": [],
   "source": [
    "def generate_sample(NN, raw_data, sample_size, v, shared_features, env_features, eps=True):\n",
    "  keys = list(source_data.keys())\n",
    "  sample = np.array([]).reshape(0,options[\"dim_x\"])\n",
    "  ys = np.array([]).reshape(0,1)\n",
    "  for idx, vi in enumerate(v):\n",
    "    data = raw_data[idx]\n",
    "    teak_sample_size = int(sample_size*vi)\n",
    "    sub_sample, y = generate_task_sample(NN, data, shared_features, env_features, teak_sample_size, eps)\n",
    "    sample = np.vstack([sample, sub_sample])\n",
    "    ys = np.vstack([ys, y])\n",
    "  return sample, ys"
   ]
  },
  {
   "cell_type": "code",
   "execution_count": 19,
   "metadata": {},
   "outputs": [],
   "source": [
    "# Generate sample dataset (shared input, output) according to NN and features\n",
    "# def generate_sample(NN, raw_data, sample_size, v, eps, shared_features, env_features):\n",
    "#   keys = list(source_data.keys())\n",
    "#   sample = np.array([]).reshape(0,options[\"dim_x\"])\n",
    "#   ys = np.array([]).reshape(0,1)\n",
    "#   for idx, vi in enumerate(v):\n",
    "#     data = raw_data[idx]\n",
    "#     shared_input = extract_features(data,shared_features)\n",
    "#     env_input = extract_features(data,env_features)\n",
    "#     random_indices = sample_data(shared_input, size = int(sample_size*vi))\n",
    "#     sub_sample = shared_input[random_indices,:]\n",
    "#     sub_features = env_input[random_indices,:]\n",
    "#     shared_y = NN(torch.Tensor(sub_sample)).detach().numpy()\n",
    "#     y = shared_y + idx + (sub_features/np.linalg.norm(sub_features)).reshape(shared_y.shape) + eps\n",
    "#     sample = np.vstack([sample, sub_sample])\n",
    "#     ys = np.vstack([ys, y])\n",
    "#   return sample, ys"
   ]
  },
  {
   "cell_type": "markdown",
   "metadata": {},
   "source": [
    "## Training + Inference"
   ]
  },
  {
   "cell_type": "markdown",
   "metadata": {},
   "source": [
    "Create target neural network with same complexity with generated neural network"
   ]
  },
  {
   "cell_type": "code",
   "execution_count": 20,
   "metadata": {},
   "outputs": [],
   "source": [
    "def train(model, optimizer, criterion, train_x, train_y, epoch):\n",
    "  loss_lst = []\n",
    "  for i in range(epoch):\n",
    "    optimizer.zero_grad()\n",
    "    outputs = model(torch.Tensor(train_x))\n",
    "    loss = criterion(outputs, torch.Tensor(train_y))\n",
    "    loss.backward()\n",
    "    optimizer.step()\n",
    "    loss_lst.append(loss.item())\n",
    "  return model, loss_lst"
   ]
  },
  {
   "cell_type": "code",
   "execution_count": 21,
   "metadata": {},
   "outputs": [],
   "source": [
    "def predict(target_nn, input, true_y):\n",
    "  prediction = target_nn(torch.Tensor(input))\n",
    "  mse = np.square(np.subtract(true_y,prediction.detach().numpy())).mean()\n",
    "  return mse"
   ]
  },
  {
   "cell_type": "code",
   "execution_count": 22,
   "metadata": {},
   "outputs": [],
   "source": [
    "def run(v, sample_size_range, train_epoch):\n",
    "  predict_loss = []\n",
    "  for i, sample_size in enumerate(sample_size_range):\n",
    "    hidden_dim = [128,128,128]\n",
    "    spectral_norms = [False]*len(hidden_dim)\n",
    "    target_nn = MLP(options[\"dim_x\"], 1, hidden_dim, spectral_norms)\n",
    "    criterion = nn.MSELoss()\n",
    "    optimizer = optim.SGD(target_nn.parameters(), lr=0.001, momentum=0.9)\n",
    "    train_x, train_y = generate_sample(NN, RawData, sample_size, v, features, [\"condition\",\"t\"], True)\n",
    "    model, train_loss = train(target_nn, optimizer, criterion, train_x, train_y, train_epoch)\n",
    "    input, true_y = generate_sample(NN, RawData, RawData[0][\"v\"].shape[0], [1],features, [\"condition\", \"t\"], False)\n",
    "    mse = predict(model, input, true_y)\n",
    "    predict_loss.append(mse)\n",
    "  return model,predict_loss"
   ]
  },
  {
   "cell_type": "markdown",
   "metadata": {},
   "source": [
    "## Baseline Experiments"
   ]
  },
  {
   "cell_type": "markdown",
   "metadata": {},
   "source": [
    "### Baseline 1: uniformly select from source tasks"
   ]
  },
  {
   "cell_type": "markdown",
   "metadata": {},
   "source": [
    "Create target neural network with same complexity with generated neural network"
   ]
  },
  {
   "cell_type": "code",
   "execution_count": 180,
   "metadata": {},
   "outputs": [],
   "source": [
    "hidden_dim = [128,128,128]\n",
    "spectral_norms = [False]*len(hidden_dim)\n",
    "target_nn = MLP(options[\"dim_x\"], 1, hidden_dim, spectral_norms)\n",
    "criterion = nn.MSELoss()\n",
    "optimizer = optim.SGD(target_nn.parameters(), lr=0.001, momentum=0.9)"
   ]
  },
  {
   "cell_type": "code",
   "execution_count": 92,
   "metadata": {},
   "outputs": [],
   "source": [
    "v = np.array([1]*len(all_data.keys()))\n",
    "v = v / (len(all_data.keys()))\n",
    "sample_size_range = np.arange(100,3000,100)\n",
    "mean_loss = []\n",
    "for episode in range(5):\n",
    "  target_nn,loss_lst = run(v, sample_size_range, 50)\n",
    "  mean_loss.append(loss_lst)"
   ]
  },
  {
   "cell_type": "code",
   "execution_count": 93,
   "metadata": {},
   "outputs": [
    {
     "data": {
      "text/plain": [
       "Text(0, 0.5, 'MSE loss')"
      ]
     },
     "execution_count": 93,
     "metadata": {},
     "output_type": "execute_result"
    },
    {
     "data": {
      "image/png": "[encoded data removed]",
      "text/plain": [
       "<Figure size 432x288 with 1 Axes>"
      ]
     },
     "metadata": {
      "needs_background": "light"
     },
     "output_type": "display_data"
    }
   ],
   "source": [
    "plt.plot(sample_size_range, np.mean(mean_loss,axis=0))\n",
    "plt.title(\"uniformly sample\")\n",
    "plt.xlabel(\"sample size\")\n",
    "plt.ylabel(\"MSE loss\")"
   ]
  },
  {
   "cell_type": "markdown",
   "metadata": {},
   "source": [
    "### Baseline 2: best situation"
   ]
  },
  {
   "cell_type": "code",
   "execution_count": 267,
   "metadata": {},
   "outputs": [],
   "source": [
    "hidden_dim = [128,128,128]\n",
    "spectral_norms = [False]*len(hidden_dim)\n",
    "best_nn = MLP(options[\"dim_x\"], 1, hidden_dim, spectral_norms)\n",
    "criterion = nn.MSELoss()\n",
    "optimizer = optim.SGD(best_nn.parameters(), lr=0.001, momentum=0.9)"
   ]
  },
  {
   "cell_type": "markdown",
   "metadata": {},
   "source": [
    "With known environment variables, largely select on the most related source tasks. Here, the most related tasks is the same environment with target task (same wind condition)"
   ]
  },
  {
   "cell_type": "code",
   "execution_count": 94,
   "metadata": {},
   "outputs": [],
   "source": [
    "v = [0.95, 0.01, 0.01, 0.01, 0.01, 0.01]\n",
    "sample_size_range = np.arange(100,3000,100)\n",
    "best_mean_loss = []\n",
    "for episode in range(5):\n",
    "  best_nn,loss_lst = run(v, sample_size_range, 50)\n",
    "  best_mean_loss.append(loss_lst)"
   ]
  },
  {
   "cell_type": "code",
   "execution_count": 95,
   "metadata": {},
   "outputs": [
    {
     "data": {
      "text/plain": [
       "Text(0, 0.5, 'MSE loss')"
      ]
     },
     "execution_count": 95,
     "metadata": {},
     "output_type": "execute_result"
    },
    {
     "data": {
      "image/png": "[encoded data removed]",
      "text/plain": [
       "<Figure size 432x288 with 1 Axes>"
      ]
     },
     "metadata": {
      "needs_background": "light"
     },
     "output_type": "display_data"
    }
   ],
   "source": [
    "plt.plot(sample_size_range, np.mean(best_mean_loss,axis=0))\n",
    "plt.title(\"best situation\")\n",
    "plt.xlabel(\"sample size\")\n",
    "plt.ylabel(\"MSE loss\")"
   ]
  },
  {
   "cell_type": "markdown",
   "metadata": {},
   "source": [
    "### Compare"
   ]
  },
  {
   "cell_type": "code",
   "execution_count": 96,
   "metadata": {},
   "outputs": [
    {
     "data": {
      "image/png": "[encoded data removed]",
      "text/plain": [
       "<Figure size 432x288 with 1 Axes>"
      ]
     },
     "metadata": {
      "needs_background": "light"
     },
     "output_type": "display_data"
    }
   ],
   "source": [
    "plt.plot(np.arange(100,3000,100), np.mean(mean_loss,axis=0)[:29], label = \"uniform\")\n",
    "plt.plot(np.arange(100,3000,100), np.mean(best_mean_loss,axis=0), label = \"best\")\n",
    "plt.legend()\n",
    "plt.show()"
   ]
  },
  {
   "cell_type": "code",
   "execution_count": null,
   "metadata": {},
   "outputs": [],
   "source": [
    "hidden_dim = [128,128,128]\n",
    "spectral_norms = [False]*len(hidden_dim)\n",
    "test_nn = MLP(options[\"dim_x\"], 1, hidden_dim, spectral_norms)\n",
    "criterion = nn.MSELoss()\n",
    "optimizer = optim.SGD(test_nn.parameters(), lr=0.001, momentum=0.9)\n",
    "v = np.array([1]*len(all_data.keys()))\n",
    "v = v / (len(all_data.keys()))\n",
    "sample_size_range = np.arange(500,10000,500)\n",
    "test_mean_loss = []\n",
    "for episode in range(10):\n",
    "  test_nn,loss_lst = run(test_nn, optimizer, criterion, v, sample_size_range, 50)\n",
    "  test_mean_loss.append(loss_lst)\n",
    "plt.plot(sample_size_range, np.mean(test_mean_loss,axis=0))"
   ]
  },
  {
   "cell_type": "markdown",
   "metadata": {},
   "source": [
    "## Active Learning"
   ]
  },
  {
   "cell_type": "code",
   "execution_count": 23,
   "metadata": {},
   "outputs": [],
   "source": [
    "hidden_dim = [128,128,128]\n",
    "spectral_norms = [False]*len(hidden_dim)\n",
    "active_nn = MLP(options[\"dim_x\"], 1, hidden_dim, spectral_norms)\n",
    "criterion = nn.MSELoss()\n",
    "optimizer = optim.SGD(active_nn.parameters(), lr=0.1, momentum=0.9)"
   ]
  },
  {
   "cell_type": "code",
   "execution_count": 24,
   "metadata": {},
   "outputs": [],
   "source": [
    "v = np.array([1]*len(all_data.keys()))\n",
    "v = v / (len(all_data.keys()))\n",
    "sample_size_range = np.arange(500,2000,500)"
   ]
  },
  {
   "cell_type": "code",
   "execution_count": 25,
   "metadata": {},
   "outputs": [],
   "source": [
    "def update_v(v, ws, best_w):\n",
    "  # inverse_w = torch.inverse(ws)\n",
    "  # new_v = torch.matmul(inverse_w, best_w)\n",
    "  new_v = torch.linalg.solve(ws, best_w)\n",
    "  return torch.nn.functional.normalize(new_v)"
   ]
  },
  {
   "cell_type": "code",
   "execution_count": 227,
   "metadata": {},
   "outputs": [],
   "source": [
    "torch.set_printoptions(precision=10)"
   ]
  },
  {
   "cell_type": "code",
   "execution_count": 26,
   "metadata": {},
   "outputs": [],
   "source": [
    "train_epoch = 1\n",
    "env_features = [\"condition\",\"t\"]\n",
    "ws = torch.empty(active_nn.net[-1].weight.shape)\n",
    "# input, true_y = generate_sample(NN, RawData, RawData[0][\"v\"].shape[0], [1],features, [\"condition\",\"t\"], False)\n",
    "input, true_y = generate_sample(NN, RawData, 2, [1],features, [\"condition\",\"t\"], False)\n",
    "for idx, vi in enumerate(v):\n",
    "  train_x, train_y = generate_task_sample(NN, RawData[idx], features, env_features, 10, True)\n",
    "  active_nn, train_loss = train(active_nn, optimizer, criterion, train_x, train_y, train_epoch)\n",
    "  ws = torch.cat([ws,active_nn.net[-1].weight])"
   ]
  },
  {
   "cell_type": "code",
   "execution_count": 27,
   "metadata": {},
   "outputs": [
    {
     "name": "stderr",
     "output_type": "stream",
     "text": [
      "<ipython-input-21-c4c22e9a29dd>:3: RuntimeWarning: overflow encountered in square\n",
      "  mse = np.square(np.subtract(true_y,prediction.detach().numpy())).mean()\n"
     ]
    }
   ],
   "source": [
    "results = []\n",
    "new_model = MLP(options[\"dim_x\"], 1, hidden_dim, spectral_norms)\n",
    "new_model.load_state_dict(active_nn.state_dict())\n",
    "for w in ws:\n",
    "  new_model.net[-1].weight = nn.parameter.Parameter(w.reshape((1,w.shape[0])))\n",
    "  result = predict(new_model, input, true_y)\n",
    "  results.append(result)\n",
    "best_w_idx = np.argmin(results)\n",
    "best_w = ws[best_w_idx]\n",
    "active_nn.net[-1].weight = nn.parameter.Parameter(best_w)"
   ]
  },
  {
   "cell_type": "code",
   "execution_count": 28,
   "metadata": {},
   "outputs": [
    {
     "ename": "RuntimeError",
     "evalue": "A must be batches of square matrices, but they are 128 by 7 matrices",
     "output_type": "error",
     "traceback": [
      "\u001b[0;31m---------------------------------------------------------------------------\u001b[0m",
      "\u001b[0;31mRuntimeError\u001b[0m                              Traceback (most recent call last)",
      "\u001b[0;32m<ipython-input-28-1424f4df998d>\u001b[0m in \u001b[0;36m<module>\u001b[0;34m\u001b[0m\n\u001b[0;32m----> 1\u001b[0;31m \u001b[0mv\u001b[0m \u001b[0;34m=\u001b[0m \u001b[0mupdate_v\u001b[0m\u001b[0;34m(\u001b[0m\u001b[0mv\u001b[0m\u001b[0;34m,\u001b[0m \u001b[0mws\u001b[0m\u001b[0;34m,\u001b[0m \u001b[0mbest_w\u001b[0m\u001b[0;34m)\u001b[0m\u001b[0;34m\u001b[0m\u001b[0;34m\u001b[0m\u001b[0m\n\u001b[0m\u001b[1;32m      2\u001b[0m \u001b[0mprint\u001b[0m\u001b[0;34m(\u001b[0m\u001b[0mv\u001b[0m\u001b[0;34m)\u001b[0m\u001b[0;34m\u001b[0m\u001b[0;34m\u001b[0m\u001b[0m\n",
      "\u001b[0;32m<ipython-input-25-1b2896e75354>\u001b[0m in \u001b[0;36mupdate_v\u001b[0;34m(v, ws, best_w)\u001b[0m\n\u001b[1;32m      2\u001b[0m   \u001b[0;31m# inverse_w = torch.inverse(ws)\u001b[0m\u001b[0;34m\u001b[0m\u001b[0;34m\u001b[0m\u001b[0;34m\u001b[0m\u001b[0m\n\u001b[1;32m      3\u001b[0m   \u001b[0;31m# new_v = torch.matmul(inverse_w, best_w)\u001b[0m\u001b[0;34m\u001b[0m\u001b[0;34m\u001b[0m\u001b[0;34m\u001b[0m\u001b[0m\n\u001b[0;32m----> 4\u001b[0;31m   \u001b[0mnew_v\u001b[0m \u001b[0;34m=\u001b[0m \u001b[0mtorch\u001b[0m\u001b[0;34m.\u001b[0m\u001b[0mlinalg\u001b[0m\u001b[0;34m.\u001b[0m\u001b[0msolve\u001b[0m\u001b[0;34m(\u001b[0m\u001b[0mws\u001b[0m\u001b[0;34m,\u001b[0m \u001b[0mbest_w\u001b[0m\u001b[0;34m)\u001b[0m\u001b[0;34m\u001b[0m\u001b[0;34m\u001b[0m\u001b[0m\n\u001b[0m\u001b[1;32m      5\u001b[0m   \u001b[0;32mreturn\u001b[0m \u001b[0mtorch\u001b[0m\u001b[0;34m.\u001b[0m\u001b[0mnn\u001b[0m\u001b[0;34m.\u001b[0m\u001b[0mfunctional\u001b[0m\u001b[0;34m.\u001b[0m\u001b[0mnormalize\u001b[0m\u001b[0;34m(\u001b[0m\u001b[0mnew_v\u001b[0m\u001b[0;34m)\u001b[0m\u001b[0;34m\u001b[0m\u001b[0;34m\u001b[0m\u001b[0m\n",
      "\u001b[0;31mRuntimeError\u001b[0m: A must be batches of square matrices, but they are 128 by 7 matrices"
     ]
    }
   ],
   "source": [
    "v = update_v(v, ws, best_w)\n",
    "print(v)"
   ]
  },
  {
   "cell_type": "code",
   "execution_count": null,
   "metadata": {},
   "outputs": [],
   "source": []
  }
 ],
 "metadata": {
  "kernelspec": {
   "display_name": "Python 3.8.5 ('base')",
   "language": "python",
   "name": "python3"
  },
  "language_info": {
   "codemirror_mode": {
    "name": "ipython",
    "version": 3
   },
   "file_extension": ".py",
   "mimetype": "text/x-python",
   "name": "python",
   "nbconvert_exporter": "python",
   "pygments_lexer": "ipython3",
   "version": "3.8.5"
  },
  "orig_nbformat": 4,
  "vscode": {
   "interpreter": {
    "hash": "140bc0c93e3ec99d4d0678479f80f4820f4c23fca9ed459ae26f4984966aba64"
   }
  }
 },
 "nbformat": 4,
 "nbformat_minor": 2
}
