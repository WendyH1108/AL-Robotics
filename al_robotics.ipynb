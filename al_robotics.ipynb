{
 "cells": [
  {
   "cell_type": "code",
   "execution_count": 116,
   "metadata": {},
   "outputs": [],
   "source": [
    "import numpy as np\n",
    "import matplotlib.pyplot as plt\n",
    "\n",
    "import torch\n",
    "import torch.nn as nn\n",
    "import torch.nn.functional as F\n",
    "import torch.optim as optim\n",
    "torch.set_default_tensor_type('torch.DoubleTensor')\n",
    "from torch.utils.data import Dataset, DataLoader\n",
    "from torch.utils.data.dataset import random_split\n",
    "from torch.nn.utils import spectral_norm\n",
    "import numpy as np\n",
    "import utils\n",
    "import mlmodel\n",
    "import matplotlib.pyplot as plt\n",
    "import collections.abc\n",
    "import re\n",
    "import copy"
   ]
  },
  {
   "cell_type": "code",
   "execution_count": 117,
   "metadata": {},
   "outputs": [],
   "source": [
    "\n",
    "import warnings\n",
    "warnings.filterwarnings('ignore')\n",
    "torch.set_printoptions(precision=10)"
   ]
  },
  {
   "cell_type": "code",
   "execution_count": 118,
   "metadata": {},
   "outputs": [
    {
     "name": "stdout",
     "output_type": "stream",
     "text": [
      "running on darwin, setting 2 workers\n"
     ]
    }
   ],
   "source": [
    "import sys\n",
    "if sys.platform == 'win32':\n",
    "    NUM_WORKERS = 0 # Windows does not support multiprocessing\n",
    "else:\n",
    "    NUM_WORKERS = 2\n",
    "print('running on ' + sys.platform + ', setting ' + str(NUM_WORKERS) + ' workers')"
   ]
  },
  {
   "cell_type": "markdown",
   "metadata": {},
   "source": [
    "## Load the Dataset"
   ]
  },
  {
   "cell_type": "code",
   "execution_count": 119,
   "metadata": {},
   "outputs": [],
   "source": [
    "dim_a = 3\n",
    "features = ['v', 'q', 'pwm']\n",
    "label = 'fa'\n",
    "\n",
    "# Training data collected from the neural-fly drone\n",
    "dataset = 'neural-fly' \n",
    "dataset_folder = 'data/training'\n",
    "hover_pwm_ratio = 1.\n",
    "\n",
    "# # Training data collected from an intel aero drone\n",
    "# dataset = 'neural-fly-transfer'\n",
    "# dataset_folder = 'data/training-transfer'\n",
    "# hover_pwm = 910 # mean hover pwm for neural-fly drone\n",
    "# intel_hover_pwm = 1675 # mean hover pwm for intel-aero drone\n",
    "# hover_pwm_ratio = hover_pwm / intel_hover_pwm # scaling ratio from system id\n",
    "\n",
    "modelname = f\"{dataset}_dim-a-{dim_a}_{'-'.join(features)}\" # 'intel-aero_fa-num-Tsp_v-q-pwm'"
   ]
  },
  {
   "cell_type": "code",
   "execution_count": 120,
   "metadata": {},
   "outputs": [],
   "source": [
    "RawData = utils.load_data(dataset_folder)\n",
    "Data = utils.format_data(RawData, features=features, output=label)\n",
    "\n",
    "testdata_folder = 'data/experiment'\n",
    "TestRawData = utils.load_data(testdata_folder, expnames='(baseline_)([0-9]*|no)wind')\n",
    "TestData = utils.format_data(RawData, features=features, output=label, hover_pwm_ratio=hover_pwm_ratio) # wind condition label, C, will not make sense for this data - that's okay since C is only used in the training process"
   ]
  },
  {
   "cell_type": "code",
   "execution_count": 121,
   "metadata": {},
   "outputs": [
    {
     "name": "stdout",
     "output_type": "stream",
     "text": [
      "dims of (x, y) are (11, 3)\n",
      "there are 6 different conditions\n"
     ]
    }
   ],
   "source": [
    "options = {}\n",
    "options['dim_x'] = Data[0].X.shape[1]\n",
    "options['dim_y'] = Data[0].Y.shape[1]\n",
    "options['num_c'] = len(Data)\n",
    "print('dims of (x, y) are', (options['dim_x'], options['dim_y']))\n",
    "print('there are ' + str(options['num_c']) + ' different conditions')"
   ]
  },
  {
   "cell_type": "code",
   "execution_count": 122,
   "metadata": {},
   "outputs": [],
   "source": [
    "options['features'] = features\n",
    "options['dim_a'] = dim_a\n",
    "options['loss_type'] = 'crossentropy-loss'\n",
    "\n",
    "options['shuffle'] = True # True: shuffle trajectories to data points\n",
    "options['K_shot'] = 32 # number of K-shot for least square on a\n",
    "options['phi_shot'] = 256 # batch size for training phi\n",
    "\n",
    "options['alpha'] = 0.01 # adversarial regularization loss\n",
    "options['learning_rate'] = 5e-4\n",
    "options['frequency_h'] = 2 # how many times phi is updated between h updates, on average\n",
    "options['SN'] = 2. # maximum single layer spectral norm of phi\n",
    "options['gamma'] = 10. # max 2-norm of a\n",
    "options['num_epochs'] = 1000"
   ]
  },
  {
   "cell_type": "markdown",
   "metadata": {},
   "source": [
    "## Process Tasks Data"
   ]
  },
  {
   "cell_type": "code",
   "execution_count": 123,
   "metadata": {},
   "outputs": [],
   "source": [
    "train_tasks = {}\n",
    "for i, data in enumerate(Data):\n",
    "  if data.condition not in train_tasks.keys():\n",
    "    train_tasks[data.condition] = []\n",
    "  train_tasks[data.condition] = data"
   ]
  },
  {
   "cell_type": "code",
   "execution_count": 124,
   "metadata": {},
   "outputs": [],
   "source": [
    "test_tasks = {}\n",
    "for i, data in enumerate(Data):\n",
    "  if data.condition not in test_tasks.keys():\n",
    "    test_tasks[data.condition] = []\n",
    "  test_tasks[data.condition] = data"
   ]
  },
  {
   "cell_type": "code",
   "execution_count": 125,
   "metadata": {},
   "outputs": [],
   "source": [
    "all_data = train_tasks.copy()"
   ]
  },
  {
   "cell_type": "code",
   "execution_count": 126,
   "metadata": {},
   "outputs": [],
   "source": [
    "target_data={}\n",
    "target_data[\"10\"] = train_tasks[\"10\"]"
   ]
  },
  {
   "cell_type": "code",
   "execution_count": 127,
   "metadata": {},
   "outputs": [],
   "source": [
    "train_tasks.pop(\"10\")\n",
    "source_data = train_tasks"
   ]
  },
  {
   "cell_type": "markdown",
   "metadata": {},
   "source": [
    "## Create Neural Network"
   ]
  },
  {
   "cell_type": "code",
   "execution_count": 128,
   "metadata": {},
   "outputs": [],
   "source": [
    "def maybe_sn(m, use_sn):\n",
    "    return spectral_norm(m) if use_sn else m"
   ]
  },
  {
   "cell_type": "code",
   "execution_count": 129,
   "metadata": {},
   "outputs": [],
   "source": [
    "class MLP(nn.Module):\n",
    "    def __init__(self, input_dim, output_dim, hidden_dims, spectral_norms, random = True):\n",
    "        super().__init__()\n",
    "        assert len(hidden_dims) == len(spectral_norms)\n",
    "        layers = []\n",
    "        for dim, use_sn in zip(hidden_dims, spectral_norms):\n",
    "            x = nn.Linear(input_dim, dim)\n",
    "            layers += [\n",
    "                x,\n",
    "                nn.ReLU(inplace=True),\n",
    "            ]\n",
    "            if not random:\n",
    "                x.weight = nn.Parameter(torch.ones_like(x.weight))\n",
    "                \n",
    "\n",
    "            input_dim = dim\n",
    "\n",
    "        layers += [nn.Linear(input_dim, output_dim)]\n",
    "        # self.layer_list = nn.ModuleList(layers)\n",
    "        self.net = nn.Sequential(*layers)\n",
    "\n",
    "    def forward(self, x):\n",
    "        return self.net(x)"
   ]
  },
  {
   "cell_type": "code",
   "execution_count": 130,
   "metadata": {},
   "outputs": [],
   "source": [
    "hidden_dim = [32,32]\n",
    "spectral_norms = [False]*len(hidden_dim)\n",
    "NN = MLP(options[\"dim_x\"], 6, hidden_dim, spectral_norms, False)"
   ]
  },
  {
   "cell_type": "markdown",
   "metadata": {},
   "source": [
    "## Helper Functions"
   ]
  },
  {
   "cell_type": "code",
   "execution_count": 294,
   "metadata": {},
   "outputs": [],
   "source": [
    "# Randomly select data from dataset\n",
    "def sample_data(data, size):\n",
    "  number_of_rows = data.shape[0]\n",
    "  random_indices = np.random.choice(number_of_rows, \n",
    "                                    size=size, \n",
    "                                    replace=False)\n",
    "  return random_indices"
   ]
  },
  {
   "cell_type": "code",
   "execution_count": 132,
   "metadata": {},
   "outputs": [],
   "source": [
    "def extract_features(rawdata, features):\n",
    "  feature_data = []\n",
    "  for feature in features:\n",
    "    if isinstance(rawdata[feature], str):\n",
    "      condition_list = re.findall(r'\\d+', rawdata[feature]) \n",
    "      condition = 0 if condition_list == [] else float(condition_list[0])\n",
    "      feature_data.append(np.tile(condition,(len(rawdata['v']),1)))\n",
    "      continue\n",
    "    feature_len = rawdata[feature].shape[1] if len(rawdata[feature].shape)>1 else 1\n",
    "    if feature == 'pwm':\n",
    "        feature_data.append(rawdata[feature] / 1000 * hover_pwm_ratio)\n",
    "    else:\n",
    "        feature_data.append(rawdata[feature].reshape(rawdata[feature].shape[0],feature_len))\n",
    "    # print(feature_data) \n",
    "  feature_data = np.hstack(feature_data)\n",
    "  return feature_data"
   ]
  },
  {
   "cell_type": "code",
   "execution_count": 133,
   "metadata": {},
   "outputs": [],
   "source": [
    "def generate_task_sample(NN, data, shared_features, idx, sample_size, eps):\n",
    "    shared_input = extract_features(data,shared_features)\n",
    "    # env_input = extract_features(data,env_features)\n",
    "    random_indices = sample_data(shared_input, size = int(sample_size))\n",
    "    sub_sample = shared_input[random_indices,:]\n",
    "    # sub_features = env_input[random_indices,:]\n",
    "    shared_y = NN(torch.Tensor(sub_sample)).detach().numpy()\n",
    "    # norm_sub_features = np.apply_along_axis(lambda x :(x+1)/np.linalg.norm((x+1)) , 0, sub_features)\n",
    "    # print(norm_sub_features.shape)\n",
    "    # sub_features = np.apply_along_axis(lambda x :(x+1)/np.linalg.norm((x+1)) , 0, sub_features)\n",
    "    # y = shared_y + idx + (sub_features/np.linalg.norm(sub_features)).reshape(shared_y.shape) + eps\n",
    "    sub_features = np.zeros((1,6))\n",
    "    sub_features[0][idx] = np.mean(data[\"t\"])\n",
    "    # sub_sample = np.concatenate([sub_sample,np.tile(sub_features, (len(random_indices),1))],axis = 1)\n",
    "    mul = np.dot(sub_features, shared_y.T)\n",
    "    # if not len(mul) == 0:\n",
    "    #     mul *= (10/mul.max())\n",
    "    if eps: \n",
    "        # y = shared_y * (sub_features[:,0]+norm_sub_features[:,1]).reshape(shared_y.shape)+ np.random.normal(0,1,shared_y.shape).reshape(shared_y.shape)\n",
    "        y = mul + np.random.normal(0,0.01,mul.shape)\n",
    "    else:\n",
    "        # y = shared_y * (sub_features[:,0]+norm_sub_features[:,1]).reshape(shared_y.shape)\n",
    "        y = mul\n",
    "    return sub_sample, y.T"
   ]
  },
  {
   "cell_type": "code",
   "execution_count": 134,
   "metadata": {},
   "outputs": [],
   "source": [
    "def generate_sample(NN, raw_data, sample_size, v, shared_features, env_features, eps=True):\n",
    "  keys = list(source_data.keys())\n",
    "  sample = np.array([]).reshape(0,options[\"dim_x\"])\n",
    "  ys = np.array([]).reshape(0,1)\n",
    "  for idx, vi in enumerate(v):\n",
    "    data = raw_data[idx]\n",
    "    teak_sample_size = int(sample_size*vi)\n",
    "    sub_sample, y = generate_task_sample(NN, data, shared_features, idx, teak_sample_size, eps)\n",
    "    sample = np.vstack([sample, sub_sample])\n",
    "    ys = np.vstack([ys, y])\n",
    "  return sample, ys"
   ]
  },
  {
   "cell_type": "code",
   "execution_count": null,
   "metadata": {},
   "outputs": [],
   "source": [
    "generate_sample(NN, RawData, RawData[0][\"v\"].shape[0], [1],features, [\"condition\", \"t\"], False)"
   ]
  },
  {
   "cell_type": "code",
   "execution_count": 135,
   "metadata": {},
   "outputs": [],
   "source": [
    "def generate_sample_H(NN, raw_data, sample_size, v, shared_features, env_features, task_data = None, eps=True):\n",
    "  if task_data is None:\n",
    "    task_data_x = {}\n",
    "    task_data_y = {}\n",
    "    for idx, vi in enumerate(v):\n",
    "      task_data_x[idx] = np.array([]).reshape(0,options[\"dim_x\"])\n",
    "      task_data_y[idx] = np.array([]).reshape(0,1)\n",
    "    task_data = [task_data_x, task_data_y]\n",
    "  task_data_x, task_data_y = task_data\n",
    "  for idx, vi in enumerate(v):\n",
    "    data = raw_data[idx]\n",
    "    task_sample_size = int(sample_size*vi)\n",
    "    sub_sample, y = generate_task_sample(NN, data, shared_features, idx, task_sample_size, eps)\n",
    "    task_data_x[idx] = np.vstack([task_data_x[idx], sub_sample])\n",
    "    task_data_y[idx] = np.vstack([task_data_y[idx], y])\n",
    "  return task_data_x, task_data_y"
   ]
  },
  {
   "cell_type": "markdown",
   "metadata": {},
   "source": [
    "## Training + Inference"
   ]
  },
  {
   "cell_type": "markdown",
   "metadata": {},
   "source": [
    "Create target neural network with same complexity with generated neural network"
   ]
  },
  {
   "cell_type": "code",
   "execution_count": 271,
   "metadata": {},
   "outputs": [],
   "source": [
    "input, true_y = generate_task_sample(NN, RawData[0], features, 0, 100, False)"
   ]
  },
  {
   "cell_type": "code",
   "execution_count": 137,
   "metadata": {},
   "outputs": [],
   "source": [
    "\n",
    "def train(model, optimizer, criterion, train_x, train_y, epoch):\n",
    "  loss_lst = []\n",
    "  for i in range(epoch):\n",
    "    optimizer.zero_grad()\n",
    "    outputs = model(torch.Tensor(train_x))\n",
    "    loss = criterion(outputs, torch.Tensor(train_y))\n",
    "    loss.backward()\n",
    "    torch.nn.utils.clip_grad_norm_(model.parameters(), 5)\n",
    "    optimizer.step()\n",
    "    loss_lst.append(loss.item())\n",
    "  return model, loss_lst"
   ]
  },
  {
   "cell_type": "code",
   "execution_count": 393,
   "metadata": {},
   "outputs": [],
   "source": [
    "def predict(target_nn, input, true_y):\n",
    "  prediction = target_nn(torch.Tensor(input))\n",
    "  mse = np.square(np.subtract(true_y,prediction.detach().numpy())).mean()\n",
    "  return mse"
   ]
  },
  {
   "cell_type": "code",
   "execution_count": 291,
   "metadata": {},
   "outputs": [],
   "source": [
    "def run(RawData, v, sample_size_range, hidden_dim,train_epoch):\n",
    "  predict_loss = []\n",
    "  for i, sample_size in enumerate(sample_size_range):\n",
    "    train_epoch = int(sample_size * 0.1 + 0.5)\n",
    "    spectral_norms = [False]*len(hidden_dim)\n",
    "    model = MLP(options[\"dim_x\"], 1, hidden_dim, spectral_norms)\n",
    "    criterion = nn.MSELoss()\n",
    "    optimizer = optim.SGD(model.parameters(), lr=0.001, momentum=0.9)\n",
    "    train_x, train_y = generate_sample(NN, RawData, sample_size, v, features, [\"condition\",\"t\"], True)\n",
    "    # train_x, train_y = generate_task_sample(NN, RawData[0], features, 0, sample_size, False)\n",
    "    model, train_loss = train(model, optimizer, criterion, train_x, train_y, train_epoch)\n",
    "    # input, true_y = generate_task_sample(NN, RawData[0], features, 0, RawData[0][\"v\"].shape[0], False)\n",
    "    mse = predict(model, input, true_y)\n",
    "    predict_loss.append(mse)\n",
    "  return model,predict_loss"
   ]
  },
  {
   "cell_type": "code",
   "execution_count": null,
   "metadata": {},
   "outputs": [],
   "source": [
    "generate_sample(NN, RawData, RawData[0][\"v\"].shape[0], [1],features, [\"condition\", \"t\"], False)"
   ]
  },
  {
   "cell_type": "markdown",
   "metadata": {},
   "source": [
    "## Baseline Experiments"
   ]
  },
  {
   "cell_type": "markdown",
   "metadata": {},
   "source": [
    "### Baseline 1: uniformly select from source tasks"
   ]
  },
  {
   "cell_type": "markdown",
   "metadata": {},
   "source": [
    "Create target neural network with same complexity with generated neural network"
   ]
  },
  {
   "cell_type": "code",
   "execution_count": 295,
   "metadata": {},
   "outputs": [],
   "source": [
    "hidden_dim = [32,32,6]\n",
    "spectral_norms = [False]*len(hidden_dim)\n",
    "uniform_nn = MLP(options[\"dim_x\"], 1, hidden_dim, spectral_norms)\n",
    "criterion = nn.MSELoss()\n",
    "optimizer = optim.SGD(uniform_nn.parameters(), lr=0.001, momentum=0.9)"
   ]
  },
  {
   "cell_type": "code",
   "execution_count": 296,
   "metadata": {},
   "outputs": [
    {
     "name": "stdout",
     "output_type": "stream",
     "text": [
      "0\n",
      "1\n",
      "2\n",
      "3\n",
      "4\n"
     ]
    }
   ],
   "source": [
    "v = np.array([1]*len(all_data.keys()))\n",
    "v = v / (len(all_data.keys()))\n",
    "sample_size_range = np.arange(20000,40000,5000)\n",
    "uniform_mean_loss = []\n",
    "for episode in range(5):\n",
    "  print(episode)\n",
    "  target_nn,loss_lst = run(RawData, v, sample_size_range, hidden_dim, 100)\n",
    "  uniform_mean_loss.append(loss_lst)"
   ]
  },
  {
   "cell_type": "code",
   "execution_count": 297,
   "metadata": {},
   "outputs": [
    {
     "data": {
      "text/plain": [
       "Text(0, 0.5, 'MSE loss')"
      ]
     },
     "execution_count": 297,
     "metadata": {},
     "output_type": "execute_result"
    },
    {
     "data": {
      "image/png": "[encoded data removed]",
      "text/plain": [
       "<Figure size 432x288 with 1 Axes>"
      ]
     },
     "metadata": {
      "needs_background": "light"
     },
     "output_type": "display_data"
    }
   ],
   "source": [
    "plt.plot(sample_size_range, np.mean(uniform_mean_loss,axis=0))\n",
    "plt.title(\"uniformly sample\")\n",
    "plt.xlabel(\"sample size\")\n",
    "plt.ylabel(\"MSE loss\")"
   ]
  },
  {
   "cell_type": "markdown",
   "metadata": {},
   "source": [
    "### Baseline 2: best situation"
   ]
  },
  {
   "cell_type": "code",
   "execution_count": 54,
   "metadata": {},
   "outputs": [],
   "source": [
    "hidden_dim = [32,32,6]\n",
    "spectral_norms = [False]*len(hidden_dim)\n",
    "best_nn = MLP(options[\"dim_x\"], 1, hidden_dim, spectral_norms)\n",
    "criterion = nn.MSELoss()\n",
    "optimizer = optim.SGD(best_nn.parameters(), lr=0.001, momentum=0.9)"
   ]
  },
  {
   "cell_type": "markdown",
   "metadata": {},
   "source": [
    "With known environment variables, largely select on the most related source tasks. Here, the most related tasks is the same environment with target task (same wind condition)"
   ]
  },
  {
   "cell_type": "code",
   "execution_count": 186,
   "metadata": {},
   "outputs": [],
   "source": [
    "v = [1, 0, 0, 0, 0, 0]\n",
    "sample_size_range = np.arange(100,2000,100)\n",
    "best_mean_loss = []\n",
    "for episode in range(10):\n",
    "  best_nn,loss_lst = run(RawData, v, sample_size_range, hidden_dim, 100)\n",
    "  best_mean_loss.append(loss_lst)"
   ]
  },
  {
   "cell_type": "code",
   "execution_count": 187,
   "metadata": {},
   "outputs": [
    {
     "data": {
      "text/plain": [
       "Text(0, 0.5, 'MSE loss')"
      ]
     },
     "execution_count": 187,
     "metadata": {},
     "output_type": "execute_result"
    },
    {
     "data": {
      "image/png": "[encoded data removed]",
      "text/plain": [
       "<Figure size 432x288 with 1 Axes>"
      ]
     },
     "metadata": {
      "needs_background": "light"
     },
     "output_type": "display_data"
    }
   ],
   "source": [
    "plt.plot(sample_size_range, np.mean(best_mean_loss,axis=0))\n",
    "plt.title(\"best situation\")\n",
    "plt.xlabel(\"sample size\")\n",
    "plt.ylabel(\"MSE loss\")"
   ]
  },
  {
   "cell_type": "code",
   "execution_count": 189,
   "metadata": {},
   "outputs": [
    {
     "data": {
      "text/plain": [
       "Parameter containing:\n",
       "tensor([[-1.8706176445,  0.1013083361, -0.0101368004,  0.1629567196,\n",
       "         -1.8995683545, -3.9267956085]], requires_grad=True)"
      ]
     },
     "execution_count": 189,
     "metadata": {},
     "output_type": "execute_result"
    }
   ],
   "source": [
    "best_nn.net[-1].weight"
   ]
  },
  {
   "cell_type": "markdown",
   "metadata": {},
   "source": [
    "### Compare"
   ]
  },
  {
   "cell_type": "code",
   "execution_count": 188,
   "metadata": {},
   "outputs": [
    {
     "data": {
      "image/png": "[encoded data removed]",
      "text/plain": [
       "<Figure size 432x288 with 1 Axes>"
      ]
     },
     "metadata": {
      "needs_background": "light"
     },
     "output_type": "display_data"
    }
   ],
   "source": [
    "rng = np.arange(500,3000,100)\n",
    "plt.plot(rng, np.mean(uniform_mean_loss,axis=0)[4:], label = \"uniform\")\n",
    "plt.plot(np.arange(100,2000,100), np.mean(best_mean_loss,axis=0), label = \"best\")\n",
    "plt.legend()\n",
    "plt.show()"
   ]
  },
  {
   "cell_type": "code",
   "execution_count": 113,
   "metadata": {},
   "outputs": [
    {
     "data": {
      "image/png": "[encoded data removed]",
      "text/plain": [
       "<Figure size 432x288 with 1 Axes>"
      ]
     },
     "metadata": {
      "needs_background": "light"
     },
     "output_type": "display_data"
    }
   ],
   "source": [
    "rng = np.arange(0,20,1)\n",
    "plt.plot(rng, np.mean(uniform_mean_loss,axis=0), label = \"uniform\")\n",
    "plt.plot(rng, np.mean(best_mean_loss,axis=0), label = \"best\")\n",
    "plt.legend()\n",
    "plt.show()"
   ]
  },
  {
   "cell_type": "markdown",
   "metadata": {},
   "source": [
    "## Active Learning"
   ]
  },
  {
   "cell_type": "code",
   "execution_count": 386,
   "metadata": {},
   "outputs": [],
   "source": [
    "def update_v(ws, best_w):\n",
    "  new_v = np.linalg.lstsq(ws.detach().numpy().T, best_w.detach().numpy())[0]\n",
    "  new_v = np.abs(new_v/np.linalg.norm(new_v,2))\n",
    "  # new_v = np.apply_along_axis(lambda x: max(0.1, x), 0, [new_v])[0]\n",
    "  return new_v"
   ]
  },
  {
   "cell_type": "code",
   "execution_count": 387,
   "metadata": {},
   "outputs": [],
   "source": [
    "\n",
    "def estimate(active_nn, input, true_y, ws, hidden_dim, v):\n",
    "  results = []\n",
    "  new_model = MLP(options[\"dim_x\"], 1, hidden_dim, spectral_norms)\n",
    "  new_model.load_state_dict(active_nn.state_dict())\n",
    "  for w in ws:\n",
    "    new_model.net[-1].weight = nn.parameter.Parameter(torch.unsqueeze(w, dim=0))\n",
    "    result = predict(new_model, input, true_y)\n",
    "    results.append(result)\n",
    "  best_w_idx = np.argmin(results)\n",
    "  # print(ws)\n",
    "  # print(best_w_idx)\n",
    "  best_w = ws[best_w_idx]\n",
    "  # active_nn.net[-1].weight = nn.parameter.Parameter(torch.unsqueeze(best_w, dim=0))\n",
    "  v = 0.8 * v + 0.2 * update_v(ws, best_w)\n",
    "  # v = np.array([1]*len(RawData))\n",
    "  # v = v / (len(RawData))\n",
    "  v = np.apply_along_axis(lambda x: max(0.167, x), 0, [v])\n",
    "  if not len(v.shape) == 1:\n",
    "    v = v[0]\n",
    "  return v, best_w"
   ]
  },
  {
   "cell_type": "code",
   "execution_count": 395,
   "metadata": {},
   "outputs": [],
   "source": [
    "def active_training(raw_data, train_epoch, v, shared_features, env_features, max_size):\n",
    "  v = np.array([1]*len(raw_data))\n",
    "  v = v / (len(raw_data))\n",
    "  # input, true_y = generate_task_sample(NN, RawData[0], features, 0, RawData[0][\"v\"].shape[0], False)\n",
    "  hidden_dim = [32,32,6]\n",
    "  spectral_norms = [False]*len(hidden_dim)\n",
    "  active_nn = MLP(options[\"dim_x\"], 1, hidden_dim, spectral_norms)\n",
    "  criterion = nn.MSELoss()\n",
    "  optimizer = optim.SGD(active_nn.parameters(), lr=0.001, momentum=0.9)\n",
    "  ws = torch.ones_like(active_nn.net[-1].weight)\n",
    "  ws = ws.tile(len(RawData),1)\n",
    "  \n",
    "  # train_x, train_y = generate_sample_H(NN, raw_data, int(max_size * 0.2), v, shared_features, env_features)\n",
    "  train_x, train_y = generate_sample_H(NN, raw_data, int(max_size*0.4), v, shared_features, env_features)\n",
    "\n",
    "\n",
    "  # input, true_y = generate_sample(NN, RawData, RawData[0][\"v\"].shape[0], [1],features, [\"condition\",\"t\"], False)\n",
    "  for i, p in enumerate(np.tile([0.2],4)):\n",
    "    sample_size = int(max_size*p)\n",
    "    for idx, vi in enumerate(v):\n",
    "      if not i == 0:\n",
    "        active_nn.net[-1].weight = nn.parameter.Parameter(torch.unsqueeze(ws[idx], dim=0))\n",
    "        train_epoch = int(len(train_x[idx]) * 0.5 + 0.5)\n",
    "      active_nn, train_loss = train(active_nn, optimizer, criterion, train_x[idx], train_y[idx], train_epoch)\n",
    "      ws[idx] = active_nn.net[-1].weight\n",
    "    v, best_w = estimate(active_nn, input, true_y, ws, hidden_dim, v)\n",
    "    # print(\"best_w\", best_w)\n",
    "    # print(\"after\", v)\n",
    "    train_x, train_y = generate_sample_H(NN, raw_data, sample_size, v, shared_features, env_features,[train_x, train_y])\n",
    "  active_nn.net[-1].weight = nn.parameter.Parameter(torch.unsqueeze(best_w, dim=0))\n",
    "  return v, predict(active_nn, input, true_y), active_nn"
   ]
  },
  {
   "cell_type": "code",
   "execution_count": 397,
   "metadata": {},
   "outputs": [],
   "source": [
    "train_epoch = 100\n",
    "env_features = [\"condition\",\"t\"]\n",
    "sample_size_range = np.arange(100,6000,100)\n",
    "hidden_dim = [32,32,6]\n",
    "spectral_norms = [False]*len(hidden_dim)\n",
    "active_nn = MLP(options[\"dim_x\"], 1, hidden_dim, spectral_norms)\n",
    "criterion = nn.MSELoss()\n",
    "optimizer = optim.SGD(active_nn.parameters(), lr=0.001, momentum=0.9)\n",
    "mean_loss = []"
   ]
  },
  {
   "cell_type": "code",
   "execution_count": null,
   "metadata": {},
   "outputs": [],
   "source": [
    "for _ in range(1):\n",
    "  mse_loss = []\n",
    "  v = np.array([1]*len(RawData))\n",
    "  v = v / (len(RawData))\n",
    "  for sample_size in sample_size_range:\n",
    "    v, mse,active_nn = active_training(RawData, train_epoch, v, features, [\"condition\",\"t\"], sample_size)\n",
    "    mse_loss.append(mse)\n",
    "    print(v)\n",
    "  mean_loss.append(mse_loss)"
   ]
  },
  {
   "cell_type": "code",
   "execution_count": 398,
   "metadata": {},
   "outputs": [],
   "source": [
    "for _ in range(5):\n",
    "  mse_loss = []\n",
    "  v = np.array([1]*len(RawData))\n",
    "  v = v / (len(RawData))\n",
    "  for sample_size in sample_size_range:\n",
    "    v, mse,active_nn = active_training(RawData, train_epoch, v, features, [\"condition\",\"t\"], sample_size)\n",
    "    mse_loss.append(mse)\n",
    "  mean_loss.append(mse_loss)"
   ]
  },
  {
   "cell_type": "code",
   "execution_count": 399,
   "metadata": {},
   "outputs": [
    {
     "data": {
      "text/plain": [
       "Text(0, 0.5, 'MSE loss')"
      ]
     },
     "execution_count": 399,
     "metadata": {},
     "output_type": "execute_result"
    },
    {
     "data": {
      "image/png": "[encoded data removed]",
      "text/plain": [
       "<Figure size 432x288 with 1 Axes>"
      ]
     },
     "metadata": {
      "needs_background": "light"
     },
     "output_type": "display_data"
    }
   ],
   "source": [
    "plt.plot(sample_size_range, np.mean(mean_loss, axis=0))\n",
    "plt.title(\"active sample\")\n",
    "plt.xlabel(\"sample size\")\n",
    "plt.ylabel(\"MSE loss\")"
   ]
  },
  {
   "cell_type": "markdown",
   "metadata": {},
   "source": [
    "### Compare"
   ]
  },
  {
   "cell_type": "code",
   "execution_count": 270,
   "metadata": {},
   "outputs": [
    {
     "data": {
      "image/png": "[encoded data removed]",
      "text/plain": [
       "<Figure size 432x288 with 1 Axes>"
      ]
     },
     "metadata": {
      "needs_background": "light"
     },
     "output_type": "display_data"
    }
   ],
   "source": [
    "rng = np.arange(500,3000,100)\n",
    "plt.plot(rng, np.mean(uniform_mean_loss,axis=0)[4:], label = \"uniform\")\n",
    "plt.plot(np.arange(100,2000,100), np.mean(best_mean_loss,axis=0), label = \"best\")\n",
    "plt.plot(np.arange(100,3000,100), np.mean(mean_loss, axis=0), label = \"active\")\n",
    "plt.legend()\n",
    "plt.show()"
   ]
  },
  {
   "cell_type": "code",
   "execution_count": null,
   "metadata": {},
   "outputs": [],
   "source": []
  }
 ],
 "metadata": {
  "kernelspec": {
   "display_name": "Python 3.8.5 ('base')",
   "language": "python",
   "name": "python3"
  },
  "language_info": {
   "codemirror_mode": {
    "name": "ipython",
    "version": 3
   },
   "file_extension": ".py",
   "mimetype": "text/x-python",
   "name": "python",
   "nbconvert_exporter": "python",
   "pygments_lexer": "ipython3",
   "version": "3.8.5"
  },
  "orig_nbformat": 4,
  "vscode": {
   "interpreter": {
    "hash": "140bc0c93e3ec99d4d0678479f80f4820f4c23fca9ed459ae26f4984966aba64"
   }
  }
 },
 "nbformat": 4,
 "nbformat_minor": 2
}
